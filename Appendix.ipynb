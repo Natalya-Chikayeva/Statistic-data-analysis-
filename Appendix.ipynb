{
 "cells": [
  {
   "cell_type": "code",
   "execution_count": 1,
   "id": "b6499ee4",
   "metadata": {},
   "outputs": [],
   "source": [
    "import pandas as pd\n",
    "import numpy as np \n",
    "\n",
    "import math\n",
    "from scipy import stats\n",
    "\n",
    "import seaborn as sns\n",
    "import matplotlib.pyplot as plt"
   ]
  },
  {
   "cell_type": "markdown",
   "id": "634c9eb3",
   "metadata": {},
   "source": [
    "### Upload dataset"
   ]
  },
  {
   "cell_type": "code",
   "execution_count": 2,
   "id": "23dd63d0",
   "metadata": {},
   "outputs": [
    {
     "data": {
      "text/html": [
       "<div>\n",
       "<style scoped>\n",
       "    .dataframe tbody tr th:only-of-type {\n",
       "        vertical-align: middle;\n",
       "    }\n",
       "\n",
       "    .dataframe tbody tr th {\n",
       "        vertical-align: top;\n",
       "    }\n",
       "\n",
       "    .dataframe thead th {\n",
       "        text-align: right;\n",
       "    }\n",
       "</style>\n",
       "<table border=\"1\" class=\"dataframe\">\n",
       "  <thead>\n",
       "    <tr style=\"text-align: right;\">\n",
       "      <th></th>\n",
       "      <th>olympics</th>\n",
       "      <th>discipline</th>\n",
       "      <th>sex</th>\n",
       "      <th>age</th>\n",
       "    </tr>\n",
       "  </thead>\n",
       "  <tbody>\n",
       "    <tr>\n",
       "      <th>0</th>\n",
       "      <td>2022</td>\n",
       "      <td>Snowboard</td>\n",
       "      <td>f</td>\n",
       "      <td>24</td>\n",
       "    </tr>\n",
       "    <tr>\n",
       "      <th>1</th>\n",
       "      <td>2022</td>\n",
       "      <td>Snowboard</td>\n",
       "      <td>f</td>\n",
       "      <td>28</td>\n",
       "    </tr>\n",
       "    <tr>\n",
       "      <th>2</th>\n",
       "      <td>2022</td>\n",
       "      <td>Snowboard</td>\n",
       "      <td>f</td>\n",
       "      <td>26</td>\n",
       "    </tr>\n",
       "    <tr>\n",
       "      <th>3</th>\n",
       "      <td>2022</td>\n",
       "      <td>Snowboard</td>\n",
       "      <td>f</td>\n",
       "      <td>26</td>\n",
       "    </tr>\n",
       "    <tr>\n",
       "      <th>4</th>\n",
       "      <td>2022</td>\n",
       "      <td>Snowboard</td>\n",
       "      <td>f</td>\n",
       "      <td>26</td>\n",
       "    </tr>\n",
       "  </tbody>\n",
       "</table>\n",
       "</div>"
      ],
      "text/plain": [
       "   olympics discipline sex  age\n",
       "0      2022  Snowboard   f   24\n",
       "1      2022  Snowboard   f   28\n",
       "2      2022  Snowboard   f   26\n",
       "3      2022  Snowboard   f   26\n",
       "4      2022  Snowboard   f   26"
      ]
     },
     "execution_count": 2,
     "metadata": {},
     "output_type": "execute_result"
    }
   ],
   "source": [
    "df = pd.read_csv(\"WinterGames.csv\")\n",
    "df.head()"
   ]
  },
  {
   "cell_type": "markdown",
   "id": "3c88198a",
   "metadata": {},
   "source": [
    "### Size of dataset"
   ]
  },
  {
   "cell_type": "code",
   "execution_count": 3,
   "id": "f1714a68",
   "metadata": {},
   "outputs": [
    {
     "data": {
      "text/plain": [
       "(749, 4)"
      ]
     },
     "execution_count": 3,
     "metadata": {},
     "output_type": "execute_result"
    }
   ],
   "source": [
    "df.shape"
   ]
  },
  {
   "cell_type": "markdown",
   "id": "b7074eae",
   "metadata": {},
   "source": [
    "### Main statistical characteristics "
   ]
  },
  {
   "cell_type": "code",
   "execution_count": 4,
   "id": "620ed8fb",
   "metadata": {},
   "outputs": [
    {
     "data": {
      "text/html": [
       "<div>\n",
       "<style scoped>\n",
       "    .dataframe tbody tr th:only-of-type {\n",
       "        vertical-align: middle;\n",
       "    }\n",
       "\n",
       "    .dataframe tbody tr th {\n",
       "        vertical-align: top;\n",
       "    }\n",
       "\n",
       "    .dataframe thead th {\n",
       "        text-align: right;\n",
       "    }\n",
       "</style>\n",
       "<table border=\"1\" class=\"dataframe\">\n",
       "  <thead>\n",
       "    <tr style=\"text-align: right;\">\n",
       "      <th></th>\n",
       "      <th>olympics</th>\n",
       "      <th>age</th>\n",
       "    </tr>\n",
       "  </thead>\n",
       "  <tbody>\n",
       "    <tr>\n",
       "      <th>count</th>\n",
       "      <td>749.000000</td>\n",
       "      <td>749.000000</td>\n",
       "    </tr>\n",
       "    <tr>\n",
       "      <th>mean</th>\n",
       "      <td>2017.855808</td>\n",
       "      <td>25.882510</td>\n",
       "    </tr>\n",
       "    <tr>\n",
       "      <th>std</th>\n",
       "      <td>3.250756</td>\n",
       "      <td>4.901661</td>\n",
       "    </tr>\n",
       "    <tr>\n",
       "      <th>min</th>\n",
       "      <td>2014.000000</td>\n",
       "      <td>17.000000</td>\n",
       "    </tr>\n",
       "    <tr>\n",
       "      <th>25%</th>\n",
       "      <td>2014.000000</td>\n",
       "      <td>22.000000</td>\n",
       "    </tr>\n",
       "    <tr>\n",
       "      <th>50%</th>\n",
       "      <td>2018.000000</td>\n",
       "      <td>26.000000</td>\n",
       "    </tr>\n",
       "    <tr>\n",
       "      <th>75%</th>\n",
       "      <td>2022.000000</td>\n",
       "      <td>29.000000</td>\n",
       "    </tr>\n",
       "    <tr>\n",
       "      <th>max</th>\n",
       "      <td>2022.000000</td>\n",
       "      <td>45.000000</td>\n",
       "    </tr>\n",
       "  </tbody>\n",
       "</table>\n",
       "</div>"
      ],
      "text/plain": [
       "          olympics         age\n",
       "count   749.000000  749.000000\n",
       "mean   2017.855808   25.882510\n",
       "std       3.250756    4.901661\n",
       "min    2014.000000   17.000000\n",
       "25%    2014.000000   22.000000\n",
       "50%    2018.000000   26.000000\n",
       "75%    2022.000000   29.000000\n",
       "max    2022.000000   45.000000"
      ]
     },
     "execution_count": 4,
     "metadata": {},
     "output_type": "execute_result"
    }
   ],
   "source": [
    "df.describe()"
   ]
  },
  {
   "cell_type": "markdown",
   "id": "d2c56a76",
   "metadata": {},
   "source": [
    "### Number of male and female "
   ]
  },
  {
   "cell_type": "code",
   "execution_count": 5,
   "id": "0b7fd03d",
   "metadata": {},
   "outputs": [
    {
     "data": {
      "text/plain": [
       "m    403\n",
       "f    346\n",
       "Name: sex, dtype: int64"
      ]
     },
     "execution_count": 5,
     "metadata": {},
     "output_type": "execute_result"
    }
   ],
   "source": [
    "gender_counts = df.sex.value_counts()\n",
    "gender_counts"
   ]
  },
  {
   "cell_type": "code",
   "execution_count": 6,
   "id": "dedf11e0",
   "metadata": {},
   "outputs": [
    {
     "data": {
      "text/plain": [
       "Ski          559\n",
       "Snowboard    190\n",
       "Name: discipline, dtype: int64"
      ]
     },
     "execution_count": 6,
     "metadata": {},
     "output_type": "execute_result"
    }
   ],
   "source": [
    "gender_counts = df.discipline.value_counts()\n",
    "gender_counts"
   ]
  },
  {
   "cell_type": "markdown",
   "id": "6cf18007",
   "metadata": {},
   "source": [
    "### Checking null values "
   ]
  },
  {
   "cell_type": "code",
   "execution_count": 7,
   "id": "62d7bfed",
   "metadata": {},
   "outputs": [
    {
     "data": {
      "text/plain": [
       "olympics      0\n",
       "discipline    0\n",
       "sex           0\n",
       "age           0\n",
       "dtype: int64"
      ]
     },
     "execution_count": 7,
     "metadata": {},
     "output_type": "execute_result"
    }
   ],
   "source": [
    "df.isnull().sum()"
   ]
  },
  {
   "cell_type": "markdown",
   "id": "adf99dbd",
   "metadata": {},
   "source": [
    "### General Age Distribution"
   ]
  },
  {
   "cell_type": "code",
   "execution_count": 8,
   "id": "be68980d",
   "metadata": {},
   "outputs": [
    {
     "data": {
      "text/plain": [
       "(array([  0.,   0.,   0.,   7.,  52.,  85., 112., 117., 125.,  93.,  66.,\n",
       "         40.,  22.,  15.,   7.,   1.,   4.,   3.,   0.,   0.,   0.,   0.,\n",
       "          0.,   0.,   0.,   0.,   0.,   0.,   0.,   0.,   0.,   0.,   0.,\n",
       "          0.]),\n",
       " array([10, 12, 14, 16, 18, 20, 22, 24, 26, 28, 30, 32, 34, 36, 38, 40, 42,\n",
       "        44, 46, 48, 50, 52, 54, 56, 58, 60, 62, 64, 66, 68, 70, 72, 74, 76,\n",
       "        78]),\n",
       " <BarContainer object of 34 artists>)"
      ]
     },
     "execution_count": 8,
     "metadata": {},
     "output_type": "execute_result"
    },
    {
     "data": {
      "image/png": "[encoded data removed]",
      "text/plain": [
       "<Figure size 864x432 with 1 Axes>"
      ]
     },
     "metadata": {
      "needs_background": "light"
     },
     "output_type": "display_data"
    }
   ],
   "source": [
    "plt.figure(figsize=(12, 6))\n",
    "# plt.title(df.Age)\n",
    "plt.xlabel('Age')\n",
    "plt.ylabel('Number of Participant')\n",
    "\n",
    "plt.hist(df.age, bins=np.arange(10,80,2), color='purple')"
   ]
  },
  {
   "cell_type": "markdown",
   "id": "9fca8d79",
   "metadata": {},
   "source": [
    "# Stege 1. Compare age of snowboarders with skiers participating in the Winter Olympic"
   ]
  },
  {
   "cell_type": "markdown",
   "id": "e804ed98",
   "metadata": {},
   "source": [
    "### Calculate average age"
   ]
  },
  {
   "cell_type": "code",
   "execution_count": 9,
   "id": "b681c0f9",
   "metadata": {},
   "outputs": [],
   "source": [
    "# Separation of data into groups by gender and discipline. \n",
    "m_snowboard = df[(df.sex == \"m\") & (df.discipline == 'Snowboard')]\n",
    "m_ski = df[(df.sex == 'm') & (df.discipline == 'Ski')]\n",
    "f_snowboard = df[(df.sex == 'f') & (df.discipline == 'Snowboard')]\n",
    "f_ski = df[(df.sex == 'f') & (df.discipline == 'Ski')]"
   ]
  },
  {
   "cell_type": "code",
   "execution_count": 10,
   "id": "73ecd4c4",
   "metadata": {},
   "outputs": [
    {
     "name": "stdout",
     "output_type": "stream",
     "text": [
      "The average age of men snowboard:        29.583333333333332\n",
      "The average age of men ski:              25.469055374592834\n",
      "The average age of women snowboard:      26.872340425531913\n",
      "The average age of women ski:            24.607142857142858\n"
     ]
    }
   ],
   "source": [
    "print ('The average age of men snowboard:       ', m_snowboard['age' ]. mean ())\n",
    "print ('The average age of men ski:             ', m_ski['age']. mean ())\n",
    "print ('The average age of women snowboard:     ', f_snowboard['age']. mean ())\n",
    "print ('The average age of women ski:           ', f_ski['age']. mean ())"
   ]
  },
  {
   "cell_type": "code",
   "execution_count": 11,
   "id": "0187e1a8",
   "metadata": {},
   "outputs": [
    {
     "data": {
      "image/png": "[encoded data removed]",
      "text/plain": [
       "<Figure size 432x288 with 1 Axes>"
      ]
     },
     "metadata": {
      "needs_background": "light"
     },
     "output_type": "display_data"
    }
   ],
   "source": [
    "#  plot it\n",
    "\n",
    "df_snowboard = df[(df['discipline'] == 'Snowboard')]\n",
    "df_ski = df[(df['discipline'] == 'Ski')]\n",
    "\n",
    "df_snowboard_1 = df_snowboard.groupby('sex')['age'].mean()\n",
    "df_ski_1 = df_ski.groupby('sex')['age'].mean()\n",
    "\n",
    "df_merged=pd.merge(df_snowboard_1, df_ski_1, on=['sex'])\n",
    "df_merged.rename(columns={'sex': 'sex', \n",
    "                              'age_x': 'age_snowboard', \n",
    "                              'age_y': 'age_ski'}, inplace=True)\n",
    "\n",
    "ax = df_merged.plot.bar(title=\"Mean age for all years period\", rot=0)"
   ]
  },
  {
   "cell_type": "code",
   "execution_count": 12,
   "id": "c94df279",
   "metadata": {},
   "outputs": [
    {
     "data": {
      "text/html": [
       "<div>\n",
       "<style scoped>\n",
       "    .dataframe tbody tr th:only-of-type {\n",
       "        vertical-align: middle;\n",
       "    }\n",
       "\n",
       "    .dataframe tbody tr th {\n",
       "        vertical-align: top;\n",
       "    }\n",
       "\n",
       "    .dataframe thead th {\n",
       "        text-align: right;\n",
       "    }\n",
       "</style>\n",
       "<table border=\"1\" class=\"dataframe\">\n",
       "  <thead>\n",
       "    <tr style=\"text-align: right;\">\n",
       "      <th></th>\n",
       "      <th>olympics</th>\n",
       "      <th>age</th>\n",
       "    </tr>\n",
       "  </thead>\n",
       "  <tbody>\n",
       "    <tr>\n",
       "      <th>count</th>\n",
       "      <td>190.000000</td>\n",
       "      <td>190.000000</td>\n",
       "    </tr>\n",
       "    <tr>\n",
       "      <th>mean</th>\n",
       "      <td>2017.978947</td>\n",
       "      <td>28.242105</td>\n",
       "    </tr>\n",
       "    <tr>\n",
       "      <th>std</th>\n",
       "      <td>3.278853</td>\n",
       "      <td>5.346642</td>\n",
       "    </tr>\n",
       "    <tr>\n",
       "      <th>min</th>\n",
       "      <td>2014.000000</td>\n",
       "      <td>18.000000</td>\n",
       "    </tr>\n",
       "    <tr>\n",
       "      <th>25%</th>\n",
       "      <td>2014.000000</td>\n",
       "      <td>24.000000</td>\n",
       "    </tr>\n",
       "    <tr>\n",
       "      <th>50%</th>\n",
       "      <td>2018.000000</td>\n",
       "      <td>28.000000</td>\n",
       "    </tr>\n",
       "    <tr>\n",
       "      <th>75%</th>\n",
       "      <td>2022.000000</td>\n",
       "      <td>32.000000</td>\n",
       "    </tr>\n",
       "    <tr>\n",
       "      <th>max</th>\n",
       "      <td>2022.000000</td>\n",
       "      <td>45.000000</td>\n",
       "    </tr>\n",
       "  </tbody>\n",
       "</table>\n",
       "</div>"
      ],
      "text/plain": [
       "          olympics         age\n",
       "count   190.000000  190.000000\n",
       "mean   2017.978947   28.242105\n",
       "std       3.278853    5.346642\n",
       "min    2014.000000   18.000000\n",
       "25%    2014.000000   24.000000\n",
       "50%    2018.000000   28.000000\n",
       "75%    2022.000000   32.000000\n",
       "max    2022.000000   45.000000"
      ]
     },
     "execution_count": 12,
     "metadata": {},
     "output_type": "execute_result"
    }
   ],
   "source": [
    "df_snowboard.describe()"
   ]
  },
  {
   "cell_type": "code",
   "execution_count": 13,
   "id": "c1252b53",
   "metadata": {},
   "outputs": [
    {
     "data": {
      "text/html": [
       "<div>\n",
       "<style scoped>\n",
       "    .dataframe tbody tr th:only-of-type {\n",
       "        vertical-align: middle;\n",
       "    }\n",
       "\n",
       "    .dataframe tbody tr th {\n",
       "        vertical-align: top;\n",
       "    }\n",
       "\n",
       "    .dataframe thead th {\n",
       "        text-align: right;\n",
       "    }\n",
       "</style>\n",
       "<table border=\"1\" class=\"dataframe\">\n",
       "  <thead>\n",
       "    <tr style=\"text-align: right;\">\n",
       "      <th></th>\n",
       "      <th>olympics</th>\n",
       "      <th>age</th>\n",
       "    </tr>\n",
       "  </thead>\n",
       "  <tbody>\n",
       "    <tr>\n",
       "      <th>count</th>\n",
       "      <td>559.000000</td>\n",
       "      <td>559.000000</td>\n",
       "    </tr>\n",
       "    <tr>\n",
       "      <th>mean</th>\n",
       "      <td>2017.813953</td>\n",
       "      <td>25.080501</td>\n",
       "    </tr>\n",
       "    <tr>\n",
       "      <th>std</th>\n",
       "      <td>3.243038</td>\n",
       "      <td>4.470408</td>\n",
       "    </tr>\n",
       "    <tr>\n",
       "      <th>min</th>\n",
       "      <td>2014.000000</td>\n",
       "      <td>17.000000</td>\n",
       "    </tr>\n",
       "    <tr>\n",
       "      <th>25%</th>\n",
       "      <td>2014.000000</td>\n",
       "      <td>22.000000</td>\n",
       "    </tr>\n",
       "    <tr>\n",
       "      <th>50%</th>\n",
       "      <td>2018.000000</td>\n",
       "      <td>25.000000</td>\n",
       "    </tr>\n",
       "    <tr>\n",
       "      <th>75%</th>\n",
       "      <td>2022.000000</td>\n",
       "      <td>28.000000</td>\n",
       "    </tr>\n",
       "    <tr>\n",
       "      <th>max</th>\n",
       "      <td>2022.000000</td>\n",
       "      <td>44.000000</td>\n",
       "    </tr>\n",
       "  </tbody>\n",
       "</table>\n",
       "</div>"
      ],
      "text/plain": [
       "          olympics         age\n",
       "count   559.000000  559.000000\n",
       "mean   2017.813953   25.080501\n",
       "std       3.243038    4.470408\n",
       "min    2014.000000   17.000000\n",
       "25%    2014.000000   22.000000\n",
       "50%    2018.000000   25.000000\n",
       "75%    2022.000000   28.000000\n",
       "max    2022.000000   44.000000"
      ]
     },
     "execution_count": 13,
     "metadata": {},
     "output_type": "execute_result"
    }
   ],
   "source": [
    "df_ski.describe()"
   ]
  },
  {
   "cell_type": "markdown",
   "id": "dd7def9c",
   "metadata": {},
   "source": [
    "## Sample Variance"
   ]
  },
  {
   "cell_type": "code",
   "execution_count": 14,
   "id": "03165d13",
   "metadata": {},
   "outputs": [
    {
     "name": "stdout",
     "output_type": "stream",
     "text": [
      "Statistics of age for snowboard: mu: 28.242105263157896 var:  28.58657755499861 std:  5.346641708119089\n",
      "Statistics of age for ski : mu: 25.08050089445438 var:  19.98454741890601 std: 4.470407970074545\n"
     ]
    }
   ],
   "source": [
    "ml = df[(df.sex == 'm')]\n",
    "fm = df[(df.sex == 'f')]\n",
    "\n",
    "snowboard_mu = df_snowboard['age' ]. mean ()\n",
    "ski_mu = df_ski['age' ]. mean ()\n",
    "snowboard_var = df_snowboard['age']. var ()\n",
    "ski_var = df_ski['age']. var ()\n",
    "snowboard_std = df_snowboard['age']. std ()\n",
    "ski_std = df_ski['age']. std ()\n",
    "print ('Statistics of age for snowboard: mu:', snowboard_mu , 'var: ', snowboard_var , 'std: ', snowboard_std)\n",
    "print ('Statistics of age for ski : mu:', ski_mu , 'var: ', ski_var , 'std:', ski_std)"
   ]
  },
  {
   "cell_type": "code",
   "execution_count": 15,
   "id": "da47c107",
   "metadata": {},
   "outputs": [
    {
     "data": {
      "text/html": [
       "<div>\n",
       "<style scoped>\n",
       "    .dataframe tbody tr th:only-of-type {\n",
       "        vertical-align: middle;\n",
       "    }\n",
       "\n",
       "    .dataframe tbody tr th {\n",
       "        vertical-align: top;\n",
       "    }\n",
       "\n",
       "    .dataframe thead th {\n",
       "        text-align: right;\n",
       "    }\n",
       "</style>\n",
       "<table border=\"1\" class=\"dataframe\">\n",
       "  <thead>\n",
       "    <tr style=\"text-align: right;\">\n",
       "      <th></th>\n",
       "      <th>mean</th>\n",
       "      <th>var</th>\n",
       "      <th>std</th>\n",
       "    </tr>\n",
       "  </thead>\n",
       "  <tbody>\n",
       "    <tr>\n",
       "      <th>snowboard</th>\n",
       "      <td>28.242105</td>\n",
       "      <td>28.586578</td>\n",
       "      <td>5.346642</td>\n",
       "    </tr>\n",
       "    <tr>\n",
       "      <th>ski</th>\n",
       "      <td>25.080501</td>\n",
       "      <td>19.984547</td>\n",
       "      <td>4.470408</td>\n",
       "    </tr>\n",
       "  </tbody>\n",
       "</table>\n",
       "</div>"
      ],
      "text/plain": [
       "                mean        var       std\n",
       "snowboard  28.242105  28.586578  5.346642\n",
       "ski        25.080501  19.984547  4.470408"
      ]
     },
     "execution_count": 15,
     "metadata": {},
     "output_type": "execute_result"
    }
   ],
   "source": [
    "# create table\n",
    "data = {'mean': [snowboard_mu, ski_mu],\n",
    "        'var': [snowboard_var, ski_var],\n",
    "       'std': [snowboard_std, ski_std]}\n",
    " \n",
    "df_statistic = pd.DataFrame(data, index=['snowboard',\n",
    "                               'ski'])\n",
    " \n",
    "df_statistic"
   ]
  },
  {
   "cell_type": "markdown",
   "id": "a0aad443",
   "metadata": {},
   "source": [
    "## Skewness: Measuring Asymmetry"
   ]
  },
  {
   "cell_type": "code",
   "execution_count": 16,
   "id": "1930bb56",
   "metadata": {},
   "outputs": [
    {
     "name": "stdout",
     "output_type": "stream",
     "text": [
      " Skewness of the snowboard age =   0.45541018409353945\n",
      " Skewness of the ski age =         0.7101168052434921\n"
     ]
    }
   ],
   "source": [
    "# Skewness Function\n",
    "\n",
    "def skewness(x):\n",
    "    res = 0 \n",
    "    m = x.mean()\n",
    "    s = x.std()\n",
    "    for i in x:\n",
    "        res += (i-m) * (i-m) * (i-m)\n",
    "    res /= (len(x) * s * s * s)\n",
    "    return res\n",
    "\n",
    "# Here we applied skewness function to a data without outiers that we defined later\n",
    "print (\" Skewness of the snowboard age =  \", skewness ( df_snowboard['age'] ))\n",
    "print (\" Skewness of the ski age =        \", skewness ( df_ski['age'] ))\n"
   ]
  },
  {
   "cell_type": "markdown",
   "id": "a06d986e",
   "metadata": {},
   "source": [
    "## Age distribution by groups"
   ]
  },
  {
   "cell_type": "code",
   "execution_count": 17,
   "id": "4f418772",
   "metadata": {},
   "outputs": [
    {
     "data": {
      "text/plain": [
       "<seaborn.axisgrid.FacetGrid at 0x7ff6c53a4820>"
      ]
     },
     "execution_count": 17,
     "metadata": {},
     "output_type": "execute_result"
    },
    {
     "data": {
      "image/png": "[encoded data removed]",
      "text/plain": [
       "<Figure size 477.625x432 with 2 Axes>"
      ]
     },
     "metadata": {
      "needs_background": "light"
     },
     "output_type": "display_data"
    }
   ],
   "source": [
    "g = sns.FacetGrid(df, row='discipline',  aspect=2, hue = 'sex')  # col ='olympics'\n",
    "g.map(plt.hist, 'age', bins=15, alpha=.5) # color ='skyblue'\n",
    "g.add_legend()"
   ]
  },
  {
   "cell_type": "markdown",
   "id": "3bc1f542",
   "metadata": {},
   "source": [
    "## Probability mass function"
   ]
  },
  {
   "cell_type": "code",
   "execution_count": 18,
   "id": "9166a2c0",
   "metadata": {},
   "outputs": [
    {
     "data": {
      "image/png": "[encoded data removed]",
      "text/plain": [
       "<Figure size 432x288 with 1 Axes>"
      ]
     },
     "metadata": {
      "needs_background": "light"
     },
     "output_type": "display_data"
    }
   ],
   "source": [
    "snowboard_age = df_snowboard['age']\n",
    "ski_age = df_ski['age']\n",
    "\n",
    "snowboard_age.hist( histtype='stepfilled', density=True, alpha=.5, bins=15, label=\"snowboard age\")   # default number of bins = 10\n",
    "ski_age.hist( histtype='stepfilled', density=True, alpha=.5, bins=15, label=\"ski age\")\n",
    "plt.xlabel('Age')\n",
    "plt.ylabel('PMF')\n",
    "plt.legend()\n",
    "plt.show()"
   ]
  },
  {
   "cell_type": "markdown",
   "id": "c73f7e9f",
   "metadata": {},
   "source": [
    "## Handling outliers"
   ]
  },
  {
   "cell_type": "code",
   "execution_count": 19,
   "id": "4bf2eda1",
   "metadata": {},
   "outputs": [
    {
     "name": "stderr",
     "output_type": "stream",
     "text": [
      "/usr/local/lib/python3.8/dist-packages/pandas/core/frame.py:4901: SettingWithCopyWarning: \n",
      "A value is trying to be set on a copy of a slice from a DataFrame\n",
      "\n",
      "See the caveats in the documentation: https://pandas.pydata.org/pandas-docs/stable/user_guide/indexing.html#returning-a-view-versus-a-copy\n",
      "  return super().drop(\n"
     ]
    }
   ],
   "source": [
    "def drop_numerical_outliers(df, z_thresh=2):\n",
    "    constrains = df.select_dtypes(include=[np.number]) \\\n",
    "        .apply(lambda x: np.abs(stats.zscore(x)) < z_thresh) \\\n",
    "        .all(axis=1)\n",
    "    df.drop(df.index[~constrains], inplace=True)\n",
    "    \n",
    "drop_numerical_outliers(df_snowboard)\n",
    "drop_numerical_outliers(df_ski)\n"
   ]
  },
  {
   "cell_type": "code",
   "execution_count": 20,
   "id": "ded29808",
   "metadata": {},
   "outputs": [
    {
     "data": {
      "image/png": "[encoded data removed]",
      "text/plain": [
       "<Figure size 432x288 with 1 Axes>"
      ]
     },
     "metadata": {
      "needs_background": "light"
     },
     "output_type": "display_data"
    }
   ],
   "source": [
    "snowboard_age = df_snowboard['age']\n",
    "ski_age = df_ski['age']\n",
    "\n",
    "snowboard_age.hist( histtype='stepfilled', density=True, alpha=.5, bins=15, label=\"snowboard age\")   # default number of bins = 10\n",
    "ski_age.hist( histtype='stepfilled', density=True, alpha=.5, bins=15, label=\"ski age\")\n",
    "\n",
    "# add mean line\n",
    "plt.axvline(snowboard_age.mean(), color='skyblue', linestyle='dashed', linewidth=2)\n",
    "plt.axvline(ski_age.mean(), color='orange', linestyle='dashed', linewidth=2)\n",
    "\n",
    "plt.xlabel('Age')\n",
    "plt.ylabel('PMF')\n",
    "plt.legend()\n",
    "plt.show()"
   ]
  },
  {
   "cell_type": "markdown",
   "id": "e4ae49f1",
   "metadata": {},
   "source": [
    "# Stege 2. Compare age of female snowboarders with female skiers "
   ]
  },
  {
   "cell_type": "code",
   "execution_count": 21,
   "id": "04a886b3",
   "metadata": {},
   "outputs": [],
   "source": [
    "df_female = df[(df['sex'] == 'f')]\n",
    "\n",
    "df_female_snowboard = df_female[(df_female['discipline'] == 'Snowboard')]\n",
    "df_female_ski = df_female[(df_female['discipline'] == 'Ski')]\n"
   ]
  },
  {
   "cell_type": "code",
   "execution_count": 22,
   "id": "5d9a4468",
   "metadata": {},
   "outputs": [
    {
     "data": {
      "text/plain": [
       "count    94.0\n",
       "mean     27.0\n",
       "std       5.0\n",
       "min      18.0\n",
       "25%      24.0\n",
       "50%      26.0\n",
       "75%      29.0\n",
       "max      45.0\n",
       "Name: age, dtype: float64"
      ]
     },
     "execution_count": 22,
     "metadata": {},
     "output_type": "execute_result"
    }
   ],
   "source": [
    "df_female_snowboard['age'].describe().round(0)"
   ]
  },
  {
   "cell_type": "code",
   "execution_count": 23,
   "id": "0e245f2f",
   "metadata": {},
   "outputs": [
    {
     "data": {
      "text/plain": [
       "count    252.0\n",
       "mean      25.0\n",
       "std        4.0\n",
       "min       17.0\n",
       "25%       21.0\n",
       "50%       25.0\n",
       "75%       28.0\n",
       "max       43.0\n",
       "Name: age, dtype: float64"
      ]
     },
     "execution_count": 23,
     "metadata": {},
     "output_type": "execute_result"
    }
   ],
   "source": [
    "df_female_ski['age'].describe().round(0)"
   ]
  },
  {
   "cell_type": "code",
   "execution_count": 24,
   "id": "2f845476",
   "metadata": {},
   "outputs": [
    {
     "data": {
      "text/plain": [
       "<BarContainer object of 346 artists>"
      ]
     },
     "execution_count": 24,
     "metadata": {},
     "output_type": "execute_result"
    },
    {
     "data": {
      "image/png": "[encoded data removed]",
      "text/plain": [
       "<Figure size 648x432 with 1 Axes>"
      ]
     },
     "metadata": {
      "needs_background": "light"
     },
     "output_type": "display_data"
    }
   ],
   "source": [
    "plt.figure(figsize=(9,6))\n",
    "plt.bar(x=df_female['discipline'], height=df_female['age'].mean())"
   ]
  },
  {
   "cell_type": "code",
   "execution_count": 25,
   "id": "f23984b9",
   "metadata": {},
   "outputs": [
    {
     "name": "stderr",
     "output_type": "stream",
     "text": [
      "/usr/local/lib/python3.8/dist-packages/pandas/core/frame.py:4901: SettingWithCopyWarning: \n",
      "A value is trying to be set on a copy of a slice from a DataFrame\n",
      "\n",
      "See the caveats in the documentation: https://pandas.pydata.org/pandas-docs/stable/user_guide/indexing.html#returning-a-view-versus-a-copy\n",
      "  return super().drop(\n"
     ]
    },
    {
     "data": {
      "image/png": "[encoded data removed]",
      "text/plain": [
       "<Figure size 432x288 with 1 Axes>"
      ]
     },
     "metadata": {
      "needs_background": "light"
     },
     "output_type": "display_data"
    }
   ],
   "source": [
    "drop_numerical_outliers(df_female_snowboard)\n",
    "drop_numerical_outliers(df_female_ski)\n",
    "\n",
    "snowboard_age = df_female_snowboard['age']\n",
    "ski_age = df_female_ski['age']\n",
    "\n",
    "# drop_numerical_outliers(snowboard_age)\n",
    "# drop_numerical_outliers(ski_age)\n",
    "\n",
    "snowboard_age.hist( histtype='stepfilled', density=True, alpha=.5, bins=15, label=\"snowboard age\")   # default number of bins = 10\n",
    "ski_age.hist( histtype='stepfilled', density=True, alpha=.5, bins=15, label=\"ski age\")\n",
    "\n",
    "# add mean line\n",
    "plt.axvline(snowboard_age.mean(), color='skyblue', linestyle='dashed', linewidth=2)\n",
    "plt.axvline(ski_age.mean(), color='orange', linestyle='dashed', linewidth=2)\n",
    "\n",
    "plt.xlabel('Age')\n",
    "plt.ylabel('PMF')\n",
    "plt.legend()\n",
    "plt.show()"
   ]
  },
  {
   "cell_type": "code",
   "execution_count": null,
   "id": "fde90346",
   "metadata": {},
   "outputs": [],
   "source": []
  }
 ],
 "metadata": {
  "kernelspec": {
   "display_name": "Python 3 (ipykernel)",
   "language": "python",
   "name": "python3"
  },
  "language_info": {
   "codemirror_mode": {
    "name": "ipython",
    "version": 3
   },
   "file_extension": ".py",
   "mimetype": "text/x-python",
   "name": "python",
   "nbconvert_exporter": "python",
   "pygments_lexer": "ipython3",
   "version": "3.8.12"
  }
 },
 "nbformat": 4,
 "nbformat_minor": 5
}
